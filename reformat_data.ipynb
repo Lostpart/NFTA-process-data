{
 "cells": [
  {
   "cell_type": "markdown",
   "metadata": {},
   "source": [
    "This cell breaks a compiled dataset into each individual bus per day."
   ]
  },
  {
   "cell_type": "code",
   "execution_count": 62,
   "metadata": {},
   "outputs": [],
   "source": [
    "from pathlib import Path\n",
    "\n",
    "# The data is named based on the day, so as long as the naming convention remains,\n",
    "# you only have to change the day variable to match new datafiles and reformatting\n",
    "# should work flawlessly.\n",
    "\n",
    "#This part of the code separates the data into different files based on bus.\n",
    "day = '20200801'\n",
    "\n",
    "Path('data/{}/unsorted/'.format(day)).mkdir(parents=True, exist_ok=True)\n",
    "Path('data/{}/sorted/'.format(day)).mkdir(parents=True, exist_ok=True)\n",
    "\n",
    "with open('data/{}.csv'.format(day),'r') as f:\n",
    "    f.readline()\n",
    "    \n",
    "    bus_id = 0\n",
    "    bus = []\n",
    "    \n",
    "    for lines in f:\n",
    "        line = lines[:-1].split(',')\n",
    "        \n",
    "        if bus_id == line[0]:\n",
    "            output.write(lines)\n",
    "        else:\n",
    "            bus_id = line[0]\n",
    "            output.close()\n",
    "            output = open('data/{}/unsorted/{}.csv'.format(day,bus_id), \"w+\")\n",
    "            \n",
    "output.close()"
   ]
  },
  {
   "cell_type": "markdown",
   "metadata": {},
   "source": [
    "This cell reorganizes the lines by time."
   ]
  },
  {
   "cell_type": "code",
   "execution_count": 63,
   "metadata": {},
   "outputs": [],
   "source": [
    "import os\n",
    "from pathlib import Path\n",
    "\n",
    "#This code sorts all of the separated bus data by time.\n",
    "\n",
    "Path('data/{}/sorted/'.format(day)).mkdir(parents=True, exist_ok=True)\n",
    "root = 'data/{}/'.format(day)\n",
    "unsorted_dir = root + 'unsorted/'\n",
    "sorted_dir = root + 'sorted/'\n",
    "\n",
    "for filename in os.listdir(unsorted_dir):\n",
    "    with open('{}{}'.format(unsorted_dir,filename), 'r') as f:\n",
    "        \n",
    "        data = f.read()\n",
    "        data = data.split('\\n')\n",
    "        data = sorted(data,key=lambda x: x[-8:])\n",
    "        #print(data)\n",
    "    with open('{}{}'.format(sorted_dir,filename), 'w') as output:\n",
    "        for i in data[1:]:\n",
    "            output.write(i+'\\n')"
   ]
  }
 ],
 "metadata": {
  "kernelspec": {
   "display_name": "Python 3",
   "language": "python",
   "name": "python3"
  },
  "language_info": {
   "codemirror_mode": {
    "name": "ipython",
    "version": 3
   },
   "file_extension": ".py",
   "mimetype": "text/x-python",
   "name": "python",
   "nbconvert_exporter": "python",
   "pygments_lexer": "ipython3",
   "version": "3.7.6"
  }
 },
 "nbformat": 4,
 "nbformat_minor": 4
}
